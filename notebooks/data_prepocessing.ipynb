{
  "cells": [
    {
      "cell_type": "code",
      "execution_count": 1,
      "metadata": {
        "id": "rht8yGELCy5E"
      },
      "outputs": [],
      "source": [
        "import matplotlib.pyplot as plt\n",
        "import matplotlib as mpl\n",
        "import numpy as np\n",
        "import pandas as pd\n",
        "import seaborn as sns\n"
      ]
    },
    {
      "cell_type": "code",
      "execution_count": 2,
      "metadata": {
        "id": "2TJpcfMYUKJn"
      },
      "outputs": [],
      "source": [
        "filepath='../data/'\n",
        "\n",
        "# Load the data from CSV files\n",
        "\n",
        "purchase_prices = pd.read_csv(filepath + '2017PurchasePricesDec.csv')\n",
        "df_beg_inventory = pd.read_csv(filepath + 'BegInvFINAL12312016.csv')\n",
        "df_end_inventory = pd.read_csv(filepath + 'EndInvFINAL12312016.csv')\n",
        "df_invoice_purchases = pd.read_csv(filepath + 'InvoicePurchases12312016.csv')\n",
        "df_purchases = pd.read_csv(filepath + 'PurchasesFINAL12312016.csv')\n",
        "sales = pd.read_csv(filepath + 'SalesFINAL12312016.csv')"
      ]
    },
    {
      "attachments": {},
      "cell_type": "markdown",
      "metadata": {
        "id": "Y5w-wenYAtL7"
      },
      "source": [
        "## prepocessing"
      ]
    },
    {
      "cell_type": "code",
      "execution_count": 3,
      "metadata": {
        "colab": {
          "base_uri": "https://localhost:8080/",
          "height": 206
        },
        "id": "ilWYN3jPG4CS",
        "outputId": "8b6dee84-1ba5-4306-ae5d-6e9aae44522f"
      },
      "outputs": [
        {
          "data": {
            "text/html": [
              "<div>\n",
              "<style scoped>\n",
              "    .dataframe tbody tr th:only-of-type {\n",
              "        vertical-align: middle;\n",
              "    }\n",
              "\n",
              "    .dataframe tbody tr th {\n",
              "        vertical-align: top;\n",
              "    }\n",
              "\n",
              "    .dataframe thead th {\n",
              "        text-align: right;\n",
              "    }\n",
              "</style>\n",
              "<table border=\"1\" class=\"dataframe\">\n",
              "  <thead>\n",
              "    <tr style=\"text-align: right;\">\n",
              "      <th></th>\n",
              "      <th>Brand</th>\n",
              "      <th>Description</th>\n",
              "      <th>Price</th>\n",
              "      <th>Size</th>\n",
              "      <th>Volume</th>\n",
              "      <th>Classification</th>\n",
              "      <th>PurchasePrice</th>\n",
              "      <th>VendorNumber</th>\n",
              "      <th>VendorName</th>\n",
              "    </tr>\n",
              "  </thead>\n",
              "  <tbody>\n",
              "    <tr>\n",
              "      <th>0</th>\n",
              "      <td>58</td>\n",
              "      <td>Gekkeikan Black &amp; Gold Sake</td>\n",
              "      <td>12.99</td>\n",
              "      <td>750mL</td>\n",
              "      <td>750</td>\n",
              "      <td>1</td>\n",
              "      <td>9.28</td>\n",
              "      <td>8320</td>\n",
              "      <td>SHAW ROSS INT L IMP LTD</td>\n",
              "    </tr>\n",
              "    <tr>\n",
              "      <th>1</th>\n",
              "      <td>62</td>\n",
              "      <td>Herradura Silver Tequila</td>\n",
              "      <td>36.99</td>\n",
              "      <td>750mL</td>\n",
              "      <td>750</td>\n",
              "      <td>1</td>\n",
              "      <td>28.67</td>\n",
              "      <td>1128</td>\n",
              "      <td>BROWN-FORMAN CORP</td>\n",
              "    </tr>\n",
              "    <tr>\n",
              "      <th>2</th>\n",
              "      <td>63</td>\n",
              "      <td>Herradura Reposado Tequila</td>\n",
              "      <td>38.99</td>\n",
              "      <td>750mL</td>\n",
              "      <td>750</td>\n",
              "      <td>1</td>\n",
              "      <td>30.46</td>\n",
              "      <td>1128</td>\n",
              "      <td>BROWN-FORMAN CORP</td>\n",
              "    </tr>\n",
              "    <tr>\n",
              "      <th>3</th>\n",
              "      <td>72</td>\n",
              "      <td>No. 3 London Dry Gin</td>\n",
              "      <td>34.99</td>\n",
              "      <td>750mL</td>\n",
              "      <td>750</td>\n",
              "      <td>1</td>\n",
              "      <td>26.11</td>\n",
              "      <td>9165</td>\n",
              "      <td>ULTRA BEVERAGE COMPANY LLP</td>\n",
              "    </tr>\n",
              "    <tr>\n",
              "      <th>4</th>\n",
              "      <td>75</td>\n",
              "      <td>Three Olives Tomato Vodka</td>\n",
              "      <td>14.99</td>\n",
              "      <td>750mL</td>\n",
              "      <td>750</td>\n",
              "      <td>1</td>\n",
              "      <td>10.94</td>\n",
              "      <td>7245</td>\n",
              "      <td>PROXIMO SPIRITS INC.</td>\n",
              "    </tr>\n",
              "  </tbody>\n",
              "</table>\n",
              "</div>"
            ],
            "text/plain": [
              "   Brand                  Description  Price   Size Volume  Classification  \\\n",
              "0     58  Gekkeikan Black & Gold Sake  12.99  750mL    750               1   \n",
              "1     62     Herradura Silver Tequila  36.99  750mL    750               1   \n",
              "2     63   Herradura Reposado Tequila  38.99  750mL    750               1   \n",
              "3     72         No. 3 London Dry Gin  34.99  750mL    750               1   \n",
              "4     75    Three Olives Tomato Vodka  14.99  750mL    750               1   \n",
              "\n",
              "   PurchasePrice  VendorNumber                   VendorName  \n",
              "0           9.28          8320  SHAW ROSS INT L IMP LTD      \n",
              "1          28.67          1128  BROWN-FORMAN CORP            \n",
              "2          30.46          1128  BROWN-FORMAN CORP            \n",
              "3          26.11          9165  ULTRA BEVERAGE COMPANY LLP   \n",
              "4          10.94          7245  PROXIMO SPIRITS INC.         "
            ]
          },
          "execution_count": 3,
          "metadata": {},
          "output_type": "execute_result"
        }
      ],
      "source": [
        "purchase_prices.head()"
      ]
    },
    {
      "cell_type": "code",
      "execution_count": 4,
      "metadata": {
        "colab": {
          "base_uri": "https://localhost:8080/"
        },
        "id": "BYg5RtziG4LY",
        "outputId": "500e3a72-f631-40f0-b2c8-3de933a0c49e"
      },
      "outputs": [
        {
          "data": {
            "text/plain": [
              "(12261, 131)"
            ]
          },
          "execution_count": 4,
          "metadata": {},
          "output_type": "execute_result"
        }
      ],
      "source": [
        "len(purchase_prices['Brand'].unique()),len(purchase_prices['VendorNumber'].unique())"
      ]
    },
    {
      "cell_type": "code",
      "execution_count": 5,
      "metadata": {
        "colab": {
          "base_uri": "https://localhost:8080/"
        },
        "id": "igaNoiqKJWpZ",
        "outputId": "10ee798f-c4e7-45b2-8281-ac56e8ec17cf"
      },
      "outputs": [
        {
          "data": {
            "text/plain": [
              "Brand             0\n",
              "Description       1\n",
              "Price             0\n",
              "Size              1\n",
              "Volume            1\n",
              "Classification    0\n",
              "PurchasePrice     0\n",
              "VendorNumber      0\n",
              "VendorName        0\n",
              "dtype: int64"
            ]
          },
          "execution_count": 5,
          "metadata": {},
          "output_type": "execute_result"
        }
      ],
      "source": [
        "purchase_prices.isnull().sum()\n",
        "# as we can see we have null values in columns:- descrition, Size, Volume."
      ]
    },
    {
      "cell_type": "code",
      "execution_count": 6,
      "metadata": {
        "colab": {
          "base_uri": "https://localhost:8080/",
          "height": 81
        },
        "id": "VtMAtg_8KA_a",
        "outputId": "684b54f3-2f14-477a-a14b-c340d728789d"
      },
      "outputs": [
        {
          "data": {
            "text/html": [
              "<div>\n",
              "<style scoped>\n",
              "    .dataframe tbody tr th:only-of-type {\n",
              "        vertical-align: middle;\n",
              "    }\n",
              "\n",
              "    .dataframe tbody tr th {\n",
              "        vertical-align: top;\n",
              "    }\n",
              "\n",
              "    .dataframe thead th {\n",
              "        text-align: right;\n",
              "    }\n",
              "</style>\n",
              "<table border=\"1\" class=\"dataframe\">\n",
              "  <thead>\n",
              "    <tr style=\"text-align: right;\">\n",
              "      <th></th>\n",
              "      <th>Brand</th>\n",
              "      <th>Description</th>\n",
              "      <th>Price</th>\n",
              "      <th>Size</th>\n",
              "      <th>Volume</th>\n",
              "      <th>Classification</th>\n",
              "      <th>PurchasePrice</th>\n",
              "      <th>VendorNumber</th>\n",
              "      <th>VendorName</th>\n",
              "    </tr>\n",
              "  </thead>\n",
              "  <tbody>\n",
              "    <tr>\n",
              "      <th>7915</th>\n",
              "      <td>4202</td>\n",
              "      <td>NaN</td>\n",
              "      <td>0.0</td>\n",
              "      <td>NaN</td>\n",
              "      <td>NaN</td>\n",
              "      <td>1</td>\n",
              "      <td>11.19</td>\n",
              "      <td>480</td>\n",
              "      <td>BACARDI USA INC</td>\n",
              "    </tr>\n",
              "  </tbody>\n",
              "</table>\n",
              "</div>"
            ],
            "text/plain": [
              "      Brand Description  Price Size Volume  Classification  PurchasePrice  \\\n",
              "7915   4202         NaN    0.0  NaN    NaN               1          11.19   \n",
              "\n",
              "      VendorNumber                   VendorName  \n",
              "7915           480  BACARDI USA INC              "
            ]
          },
          "execution_count": 6,
          "metadata": {},
          "output_type": "execute_result"
        }
      ],
      "source": [
        "# Checking the null value the null values\n",
        "purchase_prices[purchase_prices['Description'].isnull()]"
      ]
    },
    {
      "cell_type": "code",
      "execution_count": 7,
      "metadata": {
        "id": "d1f1HhbpKq87"
      },
      "outputs": [],
      "source": [
        "purchase_prices['Description'] = purchase_prices['Description'].fillna('')\n",
        "purchase_prices['Size'] = purchase_prices['Size'].fillna(0)\n",
        "purchase_prices['Volume'] = purchase_prices['Volume'].fillna(0)"
      ]
    },
    {
      "cell_type": "code",
      "execution_count": 8,
      "metadata": {
        "colab": {
          "base_uri": "https://localhost:8080/"
        },
        "id": "IIljFXBZMAXi",
        "outputId": "cca99fc7-2c7d-4898-ba99-c2e73218c130"
      },
      "outputs": [
        {
          "data": {
            "text/plain": [
              "Brand             0\n",
              "Description       0\n",
              "Price             0\n",
              "Size              0\n",
              "Volume            0\n",
              "Classification    0\n",
              "PurchasePrice     0\n",
              "VendorNumber      0\n",
              "VendorName        0\n",
              "dtype: int64"
            ]
          },
          "execution_count": 8,
          "metadata": {},
          "output_type": "execute_result"
        }
      ],
      "source": [
        "purchase_prices.isnull().sum()\n",
        "# as we can see we have null values in columns:- descrition, Size, Volume."
      ]
    },
    {
      "cell_type": "code",
      "execution_count": 9,
      "metadata": {
        "colab": {
          "base_uri": "https://localhost:8080/"
        },
        "id": "fxtHZsSqKhlo",
        "outputId": "c140beeb-ac46-47e2-d112-de41d0514248"
      },
      "outputs": [
        {
          "data": {
            "text/plain": [
              "Brand               int64\n",
              "Description        object\n",
              "Price             float64\n",
              "Size               object\n",
              "Volume             object\n",
              "Classification      int64\n",
              "PurchasePrice     float64\n",
              "VendorNumber        int64\n",
              "VendorName         object\n",
              "dtype: object"
            ]
          },
          "execution_count": 9,
          "metadata": {},
          "output_type": "execute_result"
        }
      ],
      "source": [
        "purchase_prices.dtypes"
      ]
    },
    {
      "attachments": {},
      "cell_type": "markdown",
      "metadata": {
        "id": "NXuQz4KWJcus"
      },
      "source": [
        "**Sales data prepocessing**"
      ]
    },
    {
      "cell_type": "code",
      "execution_count": 10,
      "metadata": {
        "colab": {
          "base_uri": "https://localhost:8080/",
          "height": 206
        },
        "id": "vApMXGc-F1hn",
        "outputId": "2c2e4da0-74d5-423c-adb5-57bd32978d7d"
      },
      "outputs": [
        {
          "data": {
            "text/html": [
              "<div>\n",
              "<style scoped>\n",
              "    .dataframe tbody tr th:only-of-type {\n",
              "        vertical-align: middle;\n",
              "    }\n",
              "\n",
              "    .dataframe tbody tr th {\n",
              "        vertical-align: top;\n",
              "    }\n",
              "\n",
              "    .dataframe thead th {\n",
              "        text-align: right;\n",
              "    }\n",
              "</style>\n",
              "<table border=\"1\" class=\"dataframe\">\n",
              "  <thead>\n",
              "    <tr style=\"text-align: right;\">\n",
              "      <th></th>\n",
              "      <th>InventoryId</th>\n",
              "      <th>Store</th>\n",
              "      <th>Brand</th>\n",
              "      <th>Description</th>\n",
              "      <th>Size</th>\n",
              "      <th>SalesQuantity</th>\n",
              "      <th>SalesDollars</th>\n",
              "      <th>SalesPrice</th>\n",
              "      <th>SalesDate</th>\n",
              "      <th>Volume</th>\n",
              "      <th>Classification</th>\n",
              "      <th>ExciseTax</th>\n",
              "      <th>VendorNo</th>\n",
              "      <th>VendorName</th>\n",
              "    </tr>\n",
              "  </thead>\n",
              "  <tbody>\n",
              "    <tr>\n",
              "      <th>0</th>\n",
              "      <td>1_HARDERSFIELD_1004</td>\n",
              "      <td>1</td>\n",
              "      <td>1004</td>\n",
              "      <td>Jim Beam w/2 Rocks Glasses</td>\n",
              "      <td>750mL</td>\n",
              "      <td>1</td>\n",
              "      <td>16.49</td>\n",
              "      <td>16.49</td>\n",
              "      <td>1/1/2016</td>\n",
              "      <td>750</td>\n",
              "      <td>1</td>\n",
              "      <td>0.79</td>\n",
              "      <td>12546</td>\n",
              "      <td>JIM BEAM BRANDS COMPANY</td>\n",
              "    </tr>\n",
              "    <tr>\n",
              "      <th>1</th>\n",
              "      <td>1_HARDERSFIELD_1004</td>\n",
              "      <td>1</td>\n",
              "      <td>1004</td>\n",
              "      <td>Jim Beam w/2 Rocks Glasses</td>\n",
              "      <td>750mL</td>\n",
              "      <td>2</td>\n",
              "      <td>32.98</td>\n",
              "      <td>16.49</td>\n",
              "      <td>1/2/2016</td>\n",
              "      <td>750</td>\n",
              "      <td>1</td>\n",
              "      <td>1.57</td>\n",
              "      <td>12546</td>\n",
              "      <td>JIM BEAM BRANDS COMPANY</td>\n",
              "    </tr>\n",
              "    <tr>\n",
              "      <th>2</th>\n",
              "      <td>1_HARDERSFIELD_1004</td>\n",
              "      <td>1</td>\n",
              "      <td>1004</td>\n",
              "      <td>Jim Beam w/2 Rocks Glasses</td>\n",
              "      <td>750mL</td>\n",
              "      <td>1</td>\n",
              "      <td>16.49</td>\n",
              "      <td>16.49</td>\n",
              "      <td>1/3/2016</td>\n",
              "      <td>750</td>\n",
              "      <td>1</td>\n",
              "      <td>0.79</td>\n",
              "      <td>12546</td>\n",
              "      <td>JIM BEAM BRANDS COMPANY</td>\n",
              "    </tr>\n",
              "    <tr>\n",
              "      <th>3</th>\n",
              "      <td>1_HARDERSFIELD_1004</td>\n",
              "      <td>1</td>\n",
              "      <td>1004</td>\n",
              "      <td>Jim Beam w/2 Rocks Glasses</td>\n",
              "      <td>750mL</td>\n",
              "      <td>1</td>\n",
              "      <td>14.49</td>\n",
              "      <td>14.49</td>\n",
              "      <td>1/8/2016</td>\n",
              "      <td>750</td>\n",
              "      <td>1</td>\n",
              "      <td>0.79</td>\n",
              "      <td>12546</td>\n",
              "      <td>JIM BEAM BRANDS COMPANY</td>\n",
              "    </tr>\n",
              "    <tr>\n",
              "      <th>4</th>\n",
              "      <td>1_HARDERSFIELD_1005</td>\n",
              "      <td>1</td>\n",
              "      <td>1005</td>\n",
              "      <td>Maker's Mark Combo Pack</td>\n",
              "      <td>375mL 2 Pk</td>\n",
              "      <td>2</td>\n",
              "      <td>69.98</td>\n",
              "      <td>34.99</td>\n",
              "      <td>1/9/2016</td>\n",
              "      <td>375</td>\n",
              "      <td>1</td>\n",
              "      <td>0.79</td>\n",
              "      <td>12546</td>\n",
              "      <td>JIM BEAM BRANDS COMPANY</td>\n",
              "    </tr>\n",
              "  </tbody>\n",
              "</table>\n",
              "</div>"
            ],
            "text/plain": [
              "           InventoryId  Store  Brand                 Description        Size  \\\n",
              "0  1_HARDERSFIELD_1004      1   1004  Jim Beam w/2 Rocks Glasses       750mL   \n",
              "1  1_HARDERSFIELD_1004      1   1004  Jim Beam w/2 Rocks Glasses       750mL   \n",
              "2  1_HARDERSFIELD_1004      1   1004  Jim Beam w/2 Rocks Glasses       750mL   \n",
              "3  1_HARDERSFIELD_1004      1   1004  Jim Beam w/2 Rocks Glasses       750mL   \n",
              "4  1_HARDERSFIELD_1005      1   1005     Maker's Mark Combo Pack  375mL 2 Pk   \n",
              "\n",
              "   SalesQuantity  SalesDollars  SalesPrice SalesDate  Volume  Classification  \\\n",
              "0              1         16.49       16.49  1/1/2016     750               1   \n",
              "1              2         32.98       16.49  1/2/2016     750               1   \n",
              "2              1         16.49       16.49  1/3/2016     750               1   \n",
              "3              1         14.49       14.49  1/8/2016     750               1   \n",
              "4              2         69.98       34.99  1/9/2016     375               1   \n",
              "\n",
              "   ExciseTax  VendorNo                   VendorName  \n",
              "0       0.79     12546  JIM BEAM BRANDS COMPANY      \n",
              "1       1.57     12546  JIM BEAM BRANDS COMPANY      \n",
              "2       0.79     12546  JIM BEAM BRANDS COMPANY      \n",
              "3       0.79     12546  JIM BEAM BRANDS COMPANY      \n",
              "4       0.79     12546  JIM BEAM BRANDS COMPANY      "
            ]
          },
          "execution_count": 10,
          "metadata": {},
          "output_type": "execute_result"
        }
      ],
      "source": [
        "sales.head()"
      ]
    },
    {
      "cell_type": "code",
      "execution_count": 11,
      "metadata": {
        "colab": {
          "base_uri": "https://localhost:8080/"
        },
        "id": "AVOG3O_YGInF",
        "outputId": "17b03804-5bec-4398-bd3e-e60647a28570"
      },
      "outputs": [
        {
          "data": {
            "text/plain": [
              "(7658, 79, 116)"
            ]
          },
          "execution_count": 11,
          "metadata": {},
          "output_type": "execute_result"
        }
      ],
      "source": [
        "len(sales['Brand'].unique()),len(sales['Store'].unique()),len(sales['VendorNo'].unique())"
      ]
    },
    {
      "cell_type": "code",
      "execution_count": 12,
      "metadata": {
        "colab": {
          "base_uri": "https://localhost:8080/"
        },
        "id": "y3837fOeMIIj",
        "outputId": "52a4f61b-0085-4003-c600-2d88ace1439b"
      },
      "outputs": [
        {
          "data": {
            "text/plain": [
              "InventoryId       0\n",
              "Store             0\n",
              "Brand             0\n",
              "Description       0\n",
              "Size              0\n",
              "SalesQuantity     0\n",
              "SalesDollars      0\n",
              "SalesPrice        0\n",
              "SalesDate         0\n",
              "Volume            0\n",
              "Classification    0\n",
              "ExciseTax         0\n",
              "VendorNo          0\n",
              "VendorName        0\n",
              "dtype: int64"
            ]
          },
          "execution_count": 12,
          "metadata": {},
          "output_type": "execute_result"
        }
      ],
      "source": [
        "sales.isnull().sum()"
      ]
    },
    {
      "cell_type": "code",
      "execution_count": 13,
      "metadata": {
        "colab": {
          "base_uri": "https://localhost:8080/"
        },
        "id": "NsGr-dqjMIVg",
        "outputId": "b376fdfd-3c97-4d50-f2fc-39f8327ed991"
      },
      "outputs": [
        {
          "data": {
            "text/plain": [
              "InventoryId        object\n",
              "Store               int64\n",
              "Brand               int64\n",
              "Description        object\n",
              "Size               object\n",
              "SalesQuantity       int64\n",
              "SalesDollars      float64\n",
              "SalesPrice        float64\n",
              "SalesDate          object\n",
              "Volume              int64\n",
              "Classification      int64\n",
              "ExciseTax         float64\n",
              "VendorNo            int64\n",
              "VendorName         object\n",
              "dtype: object"
            ]
          },
          "execution_count": 13,
          "metadata": {},
          "output_type": "execute_result"
        }
      ],
      "source": [
        "sales.dtypes"
      ]
    },
    {
      "cell_type": "code",
      "execution_count": 14,
      "metadata": {
        "id": "ZY1h3wgFQI5o"
      },
      "outputs": [],
      "source": [
        "# calculating the total amount of a sale\n",
        "sales['Amount']=sales['SalesDollars']+sales['ExciseTax']"
      ]
    },
    {
      "cell_type": "code",
      "execution_count": 15,
      "metadata": {
        "colab": {
          "base_uri": "https://localhost:8080/",
          "height": 250
        },
        "id": "_58y-1K-MiUq",
        "outputId": "c084bd8b-4030-49ea-c119-8715bd3ec719"
      },
      "outputs": [
        {
          "data": {
            "text/html": [
              "<div>\n",
              "<style scoped>\n",
              "    .dataframe tbody tr th:only-of-type {\n",
              "        vertical-align: middle;\n",
              "    }\n",
              "\n",
              "    .dataframe tbody tr th {\n",
              "        vertical-align: top;\n",
              "    }\n",
              "\n",
              "    .dataframe thead th {\n",
              "        text-align: right;\n",
              "    }\n",
              "</style>\n",
              "<table border=\"1\" class=\"dataframe\">\n",
              "  <thead>\n",
              "    <tr style=\"text-align: right;\">\n",
              "      <th></th>\n",
              "      <th>InventoryId</th>\n",
              "      <th>Store</th>\n",
              "      <th>Brand</th>\n",
              "      <th>Description</th>\n",
              "      <th>Size</th>\n",
              "      <th>SalesQuantity</th>\n",
              "      <th>SalesDollars</th>\n",
              "      <th>SalesPrice</th>\n",
              "      <th>SalesDate</th>\n",
              "      <th>Volume</th>\n",
              "      <th>Classification</th>\n",
              "      <th>ExciseTax</th>\n",
              "      <th>VendorNo</th>\n",
              "      <th>VendorName</th>\n",
              "      <th>Amount</th>\n",
              "      <th>PurchasePrice</th>\n",
              "    </tr>\n",
              "  </thead>\n",
              "  <tbody>\n",
              "    <tr>\n",
              "      <th>0</th>\n",
              "      <td>1_HARDERSFIELD_1004</td>\n",
              "      <td>1</td>\n",
              "      <td>1004</td>\n",
              "      <td>Jim Beam w/2 Rocks Glasses</td>\n",
              "      <td>750mL</td>\n",
              "      <td>1</td>\n",
              "      <td>16.49</td>\n",
              "      <td>16.49</td>\n",
              "      <td>1/1/2016</td>\n",
              "      <td>750</td>\n",
              "      <td>1</td>\n",
              "      <td>0.79</td>\n",
              "      <td>12546</td>\n",
              "      <td>JIM BEAM BRANDS COMPANY</td>\n",
              "      <td>17.28</td>\n",
              "      <td>10.65</td>\n",
              "    </tr>\n",
              "    <tr>\n",
              "      <th>1</th>\n",
              "      <td>1_HARDERSFIELD_1004</td>\n",
              "      <td>1</td>\n",
              "      <td>1004</td>\n",
              "      <td>Jim Beam w/2 Rocks Glasses</td>\n",
              "      <td>750mL</td>\n",
              "      <td>2</td>\n",
              "      <td>32.98</td>\n",
              "      <td>16.49</td>\n",
              "      <td>1/2/2016</td>\n",
              "      <td>750</td>\n",
              "      <td>1</td>\n",
              "      <td>1.57</td>\n",
              "      <td>12546</td>\n",
              "      <td>JIM BEAM BRANDS COMPANY</td>\n",
              "      <td>34.55</td>\n",
              "      <td>10.65</td>\n",
              "    </tr>\n",
              "    <tr>\n",
              "      <th>2</th>\n",
              "      <td>1_HARDERSFIELD_1004</td>\n",
              "      <td>1</td>\n",
              "      <td>1004</td>\n",
              "      <td>Jim Beam w/2 Rocks Glasses</td>\n",
              "      <td>750mL</td>\n",
              "      <td>1</td>\n",
              "      <td>16.49</td>\n",
              "      <td>16.49</td>\n",
              "      <td>1/3/2016</td>\n",
              "      <td>750</td>\n",
              "      <td>1</td>\n",
              "      <td>0.79</td>\n",
              "      <td>12546</td>\n",
              "      <td>JIM BEAM BRANDS COMPANY</td>\n",
              "      <td>17.28</td>\n",
              "      <td>10.65</td>\n",
              "    </tr>\n",
              "    <tr>\n",
              "      <th>3</th>\n",
              "      <td>1_HARDERSFIELD_1004</td>\n",
              "      <td>1</td>\n",
              "      <td>1004</td>\n",
              "      <td>Jim Beam w/2 Rocks Glasses</td>\n",
              "      <td>750mL</td>\n",
              "      <td>1</td>\n",
              "      <td>14.49</td>\n",
              "      <td>14.49</td>\n",
              "      <td>1/8/2016</td>\n",
              "      <td>750</td>\n",
              "      <td>1</td>\n",
              "      <td>0.79</td>\n",
              "      <td>12546</td>\n",
              "      <td>JIM BEAM BRANDS COMPANY</td>\n",
              "      <td>15.28</td>\n",
              "      <td>10.65</td>\n",
              "    </tr>\n",
              "    <tr>\n",
              "      <th>4</th>\n",
              "      <td>1_HARDERSFIELD_1005</td>\n",
              "      <td>1</td>\n",
              "      <td>1005</td>\n",
              "      <td>Maker's Mark Combo Pack</td>\n",
              "      <td>375mL 2 Pk</td>\n",
              "      <td>2</td>\n",
              "      <td>69.98</td>\n",
              "      <td>34.99</td>\n",
              "      <td>1/9/2016</td>\n",
              "      <td>375</td>\n",
              "      <td>1</td>\n",
              "      <td>0.79</td>\n",
              "      <td>12546</td>\n",
              "      <td>JIM BEAM BRANDS COMPANY</td>\n",
              "      <td>70.77</td>\n",
              "      <td>27.34</td>\n",
              "    </tr>\n",
              "  </tbody>\n",
              "</table>\n",
              "</div>"
            ],
            "text/plain": [
              "           InventoryId  Store  Brand                 Description        Size  \\\n",
              "0  1_HARDERSFIELD_1004      1   1004  Jim Beam w/2 Rocks Glasses       750mL   \n",
              "1  1_HARDERSFIELD_1004      1   1004  Jim Beam w/2 Rocks Glasses       750mL   \n",
              "2  1_HARDERSFIELD_1004      1   1004  Jim Beam w/2 Rocks Glasses       750mL   \n",
              "3  1_HARDERSFIELD_1004      1   1004  Jim Beam w/2 Rocks Glasses       750mL   \n",
              "4  1_HARDERSFIELD_1005      1   1005     Maker's Mark Combo Pack  375mL 2 Pk   \n",
              "\n",
              "   SalesQuantity  SalesDollars  SalesPrice SalesDate  Volume  Classification  \\\n",
              "0              1         16.49       16.49  1/1/2016     750               1   \n",
              "1              2         32.98       16.49  1/2/2016     750               1   \n",
              "2              1         16.49       16.49  1/3/2016     750               1   \n",
              "3              1         14.49       14.49  1/8/2016     750               1   \n",
              "4              2         69.98       34.99  1/9/2016     375               1   \n",
              "\n",
              "   ExciseTax  VendorNo                   VendorName  Amount  PurchasePrice  \n",
              "0       0.79     12546  JIM BEAM BRANDS COMPANY       17.28          10.65  \n",
              "1       1.57     12546  JIM BEAM BRANDS COMPANY       34.55          10.65  \n",
              "2       0.79     12546  JIM BEAM BRANDS COMPANY       17.28          10.65  \n",
              "3       0.79     12546  JIM BEAM BRANDS COMPANY       15.28          10.65  \n",
              "4       0.79     12546  JIM BEAM BRANDS COMPANY       70.77          27.34  "
            ]
          },
          "execution_count": 15,
          "metadata": {},
          "output_type": "execute_result"
        }
      ],
      "source": [
        "#merge sales of each product with its actual purchase price\n",
        "sales_and_purchase_prices=sales.merge(purchase_prices[['Brand','PurchasePrice']], how='left', on='Brand',suffixes=('_sale','_purchase'))\n",
        "sales_and_purchase_prices.head()"
      ]
    },
    {
      "cell_type": "code",
      "execution_count": 16,
      "metadata": {
        "colab": {
          "base_uri": "https://localhost:8080/"
        },
        "id": "vJivCQOTVQ3R",
        "outputId": "13f05267-22bc-41ec-c487-71980936b11e"
      },
      "outputs": [
        {
          "data": {
            "text/plain": [
              "InventoryId       0\n",
              "Store             0\n",
              "Brand             0\n",
              "Description       0\n",
              "Size              0\n",
              "SalesQuantity     0\n",
              "SalesDollars      0\n",
              "SalesPrice        0\n",
              "SalesDate         0\n",
              "Volume            0\n",
              "Classification    0\n",
              "ExciseTax         0\n",
              "VendorNo          0\n",
              "VendorName        0\n",
              "Amount            0\n",
              "PurchasePrice     0\n",
              "dtype: int64"
            ]
          },
          "execution_count": 16,
          "metadata": {},
          "output_type": "execute_result"
        }
      ],
      "source": [
        "# as you can see, there are no null values in the sales data, so no processing is required\n",
        "sales_and_purchase_prices.isnull().sum()"
      ]
    },
    {
      "attachments": {},
      "cell_type": "markdown",
      "metadata": {
        "id": "z2qq4aXGguw5"
      },
      "source": [
        "Some errors have been encountered in the sales data that require processing.\n",
        "\n",
        "Issues:\n",
        "\n",
        "The 'Size' column contained diverse forms of measurements and various formats. For instance, sizes could appear as \"750mL + 2/\", \"3/100mL\", \"50mL 4 Pk\", \"1 gal\", or \"5 oz\".\n",
        "Trailing spaces found on VendorName.\n",
        "Some date columns are wrongly formated.\n",
        "Preprocessing steps:\n",
        "\n",
        "Standardizing text columns: The 'Description' and 'City' columns should be processed to remove leading and trailing spaces.\n",
        "\n",
        "Standardize Size into a uniform unit (mL)\n",
        "\n",
        "If the size included a '+' sign, only considered the main component and disregarded the rest.\n",
        "For sizes formatted as \"number/unit\", split the number and the unit. Then convert 'oz' to mL by multiplying by 29.5735 and left 'ml' as is.\n",
        "For sizes formatted as \"number mL number Pk\", split the string by the space. The first part became the size, and extracted the number of packs from the second part to calculate the total volume.\n",
        "For sizes given in 'gal' and 'oz', convert them into mL using the appropriate conversion factors.\n",
        "For sizes in 'l' and 'ml', strip away the units and kept only the numeric part, ensuring multiplied liters by 1000 to convert to milliliters.\n",
        "Some examples of the transformations:\n",
        "\n",
        "- \"750mL + 2/\" --> 750.0\n",
        "- \"3/100mL\" --> 300.0\n",
        "- \"50mL 4 Pk\"--> to 200.0\n",
        "- \"1 gal\" --> 3785.41\n",
        "- \"5 oz\" --> 147.8675"
      ]
    },
    {
      "cell_type": "code",
      "execution_count": 17,
      "metadata": {
        "id": "DgbBl8dogwO-"
      },
      "outputs": [],
      "source": [
        "# to carry out the processing described above, we have defined two functions preprocess_size,\n",
        "# preprocess_sales_df which you can find in \"src/data_preprocessing\". \n",
        "\n",
        "import sys\n",
        "import os\n",
        "sys.path.append(os.path.abspath('../src'))\n",
        "\n",
        "from data_preprocessing_utils import preprocess_size,preprocess_sales_df\n",
        "\n",
        "\n",
        "sales_and_purchase_prices = preprocess_sales_df(sales_and_purchase_prices)"
      ]
    },
    {
      "cell_type": "code",
      "execution_count": 18,
      "metadata": {
        "colab": {
          "base_uri": "https://localhost:8080/",
          "height": 206
        },
        "id": "51-tK0yDkGlR",
        "outputId": "8d38a042-f6f8-43f7-e6e6-ec5b7d65d4a9"
      },
      "outputs": [
        {
          "data": {
            "text/html": [
              "<div>\n",
              "<style scoped>\n",
              "    .dataframe tbody tr th:only-of-type {\n",
              "        vertical-align: middle;\n",
              "    }\n",
              "\n",
              "    .dataframe tbody tr th {\n",
              "        vertical-align: top;\n",
              "    }\n",
              "\n",
              "    .dataframe thead th {\n",
              "        text-align: right;\n",
              "    }\n",
              "</style>\n",
              "<table border=\"1\" class=\"dataframe\">\n",
              "  <thead>\n",
              "    <tr style=\"text-align: right;\">\n",
              "      <th></th>\n",
              "      <th>InventoryId</th>\n",
              "      <th>Store</th>\n",
              "      <th>Brand</th>\n",
              "      <th>Description</th>\n",
              "      <th>Size</th>\n",
              "      <th>SalesQuantity</th>\n",
              "      <th>SalesDollars</th>\n",
              "      <th>SalesPrice</th>\n",
              "      <th>SalesDate</th>\n",
              "      <th>Volume</th>\n",
              "      <th>Classification</th>\n",
              "      <th>ExciseTax</th>\n",
              "      <th>VendorNo</th>\n",
              "      <th>VendorName</th>\n",
              "      <th>Amount</th>\n",
              "      <th>PurchasePrice</th>\n",
              "    </tr>\n",
              "  </thead>\n",
              "  <tbody>\n",
              "    <tr>\n",
              "      <th>0</th>\n",
              "      <td>1_HARDERSFIELD_1004</td>\n",
              "      <td>1</td>\n",
              "      <td>1004</td>\n",
              "      <td>Jim Beam w/2 Rocks Glasses</td>\n",
              "      <td>750.0</td>\n",
              "      <td>1</td>\n",
              "      <td>16.49</td>\n",
              "      <td>16.49</td>\n",
              "      <td>2016-01-01</td>\n",
              "      <td>750</td>\n",
              "      <td>1</td>\n",
              "      <td>0.79</td>\n",
              "      <td>12546</td>\n",
              "      <td>JIM BEAM BRANDS COMPANY</td>\n",
              "      <td>17.28</td>\n",
              "      <td>10.65</td>\n",
              "    </tr>\n",
              "    <tr>\n",
              "      <th>1</th>\n",
              "      <td>1_HARDERSFIELD_1004</td>\n",
              "      <td>1</td>\n",
              "      <td>1004</td>\n",
              "      <td>Jim Beam w/2 Rocks Glasses</td>\n",
              "      <td>750.0</td>\n",
              "      <td>2</td>\n",
              "      <td>32.98</td>\n",
              "      <td>16.49</td>\n",
              "      <td>2016-01-02</td>\n",
              "      <td>750</td>\n",
              "      <td>1</td>\n",
              "      <td>1.57</td>\n",
              "      <td>12546</td>\n",
              "      <td>JIM BEAM BRANDS COMPANY</td>\n",
              "      <td>34.55</td>\n",
              "      <td>10.65</td>\n",
              "    </tr>\n",
              "    <tr>\n",
              "      <th>2</th>\n",
              "      <td>1_HARDERSFIELD_1004</td>\n",
              "      <td>1</td>\n",
              "      <td>1004</td>\n",
              "      <td>Jim Beam w/2 Rocks Glasses</td>\n",
              "      <td>750.0</td>\n",
              "      <td>1</td>\n",
              "      <td>16.49</td>\n",
              "      <td>16.49</td>\n",
              "      <td>2016-01-03</td>\n",
              "      <td>750</td>\n",
              "      <td>1</td>\n",
              "      <td>0.79</td>\n",
              "      <td>12546</td>\n",
              "      <td>JIM BEAM BRANDS COMPANY</td>\n",
              "      <td>17.28</td>\n",
              "      <td>10.65</td>\n",
              "    </tr>\n",
              "    <tr>\n",
              "      <th>3</th>\n",
              "      <td>1_HARDERSFIELD_1004</td>\n",
              "      <td>1</td>\n",
              "      <td>1004</td>\n",
              "      <td>Jim Beam w/2 Rocks Glasses</td>\n",
              "      <td>750.0</td>\n",
              "      <td>1</td>\n",
              "      <td>14.49</td>\n",
              "      <td>14.49</td>\n",
              "      <td>2016-01-08</td>\n",
              "      <td>750</td>\n",
              "      <td>1</td>\n",
              "      <td>0.79</td>\n",
              "      <td>12546</td>\n",
              "      <td>JIM BEAM BRANDS COMPANY</td>\n",
              "      <td>15.28</td>\n",
              "      <td>10.65</td>\n",
              "    </tr>\n",
              "    <tr>\n",
              "      <th>4</th>\n",
              "      <td>1_HARDERSFIELD_1005</td>\n",
              "      <td>1</td>\n",
              "      <td>1005</td>\n",
              "      <td>Maker's Mark Combo Pack</td>\n",
              "      <td>750.0</td>\n",
              "      <td>2</td>\n",
              "      <td>69.98</td>\n",
              "      <td>34.99</td>\n",
              "      <td>2016-01-09</td>\n",
              "      <td>375</td>\n",
              "      <td>1</td>\n",
              "      <td>0.79</td>\n",
              "      <td>12546</td>\n",
              "      <td>JIM BEAM BRANDS COMPANY</td>\n",
              "      <td>70.77</td>\n",
              "      <td>27.34</td>\n",
              "    </tr>\n",
              "  </tbody>\n",
              "</table>\n",
              "</div>"
            ],
            "text/plain": [
              "           InventoryId  Store  Brand                 Description   Size  \\\n",
              "0  1_HARDERSFIELD_1004      1   1004  Jim Beam w/2 Rocks Glasses  750.0   \n",
              "1  1_HARDERSFIELD_1004      1   1004  Jim Beam w/2 Rocks Glasses  750.0   \n",
              "2  1_HARDERSFIELD_1004      1   1004  Jim Beam w/2 Rocks Glasses  750.0   \n",
              "3  1_HARDERSFIELD_1004      1   1004  Jim Beam w/2 Rocks Glasses  750.0   \n",
              "4  1_HARDERSFIELD_1005      1   1005     Maker's Mark Combo Pack  750.0   \n",
              "\n",
              "   SalesQuantity  SalesDollars  SalesPrice  SalesDate  Volume  Classification  \\\n",
              "0              1         16.49       16.49 2016-01-01     750               1   \n",
              "1              2         32.98       16.49 2016-01-02     750               1   \n",
              "2              1         16.49       16.49 2016-01-03     750               1   \n",
              "3              1         14.49       14.49 2016-01-08     750               1   \n",
              "4              2         69.98       34.99 2016-01-09     375               1   \n",
              "\n",
              "   ExciseTax  VendorNo               VendorName  Amount  PurchasePrice  \n",
              "0       0.79     12546  JIM BEAM BRANDS COMPANY   17.28          10.65  \n",
              "1       1.57     12546  JIM BEAM BRANDS COMPANY   34.55          10.65  \n",
              "2       0.79     12546  JIM BEAM BRANDS COMPANY   17.28          10.65  \n",
              "3       0.79     12546  JIM BEAM BRANDS COMPANY   15.28          10.65  \n",
              "4       0.79     12546  JIM BEAM BRANDS COMPANY   70.77          27.34  "
            ]
          },
          "execution_count": 18,
          "metadata": {},
          "output_type": "execute_result"
        }
      ],
      "source": [
        "\n",
        "# Supposons que votre DataFrame s'appelle 'df' et que vous voulez l'enregistrer dans un fichier nommé 'dataframe.csv'\n",
        "# sales_processed.to_csv('/content/drive/MyDrive/sales.csv', index=False)\n",
        "sales_and_purchase_prices.head(5)\n"
      ]
    },
    {
      "attachments": {},
      "cell_type": "markdown",
      "metadata": {},
      "source": [
        "Save data preprocessing"
      ]
    },
    {
      "cell_type": "code",
      "execution_count": 19,
      "metadata": {},
      "outputs": [],
      "source": [
        "sales.to_csv('../data/prepocessing/sales.csv', index=False)\n",
        "sales_and_purchase_prices.to_csv('../data/prepocessing/sales_and_purchase_prices.csv', index=False)"
      ]
    },
    {
      "cell_type": "code",
      "execution_count": null,
      "metadata": {},
      "outputs": [],
      "source": []
    }
  ],
  "metadata": {
    "colab": {
      "provenance": []
    },
    "kernelspec": {
      "display_name": "Python 3",
      "name": "python3"
    },
    "language_info": {
      "codemirror_mode": {
        "name": "ipython",
        "version": 3
      },
      "file_extension": ".py",
      "mimetype": "text/x-python",
      "name": "python",
      "nbconvert_exporter": "python",
      "pygments_lexer": "ipython3",
      "version": "3.9.18"
    }
  },
  "nbformat": 4,
  "nbformat_minor": 0
}
